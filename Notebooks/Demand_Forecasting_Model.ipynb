{
  "nbformat": 4,
  "nbformat_minor": 0,
  "metadata": {
    "colab": {
      "provenance": []
    },
    "kernelspec": {
      "name": "python3",
      "display_name": "Python 3"
    },
    "language_info": {
      "name": "python"
    }
  },
  "cells": [
    {
      "cell_type": "markdown",
      "source": [
        "***Inventory Planning***"
      ],
      "metadata": {
        "id": "CqT0mWBsaZOZ"
      }
    },
    {
      "cell_type": "code",
      "execution_count": null,
      "metadata": {
        "id": "dRfaf84Cb2mi"
      },
      "outputs": [],
      "source": [
        "import warnings\n",
        "import pandas as pd\n",
        "from pandas import datetime\n",
        "from pandas import DataFrame\n",
        "from statsmodels.tsa.arima.model import ARIMA\n",
        "import statsmodels.api as sm\n",
        "from pmdarima.arima import auto_arima\n",
        "from sklearn.metrics import mean_squared_error\n",
        "from math import sqrt\n",
        "\n",
        "warnings.filterwarnings('ignore')\n",
        "warnings.simplefilter(action='ignore', category=FutureWarning)\n",
        "!pip install pmdarima\n",
        "\n",
        "# define a function to parse date columns\n",
        "def parser(x):\n",
        "    return datetime.strptime(x, '%Y %b')\n",
        "\n",
        "# load the data\n",
        "file_name = \"/content/monthly sales.xlsx\"\n",
        "data = pd.read_excel(file_name, parse_dates=[['Year', 'Month']], date_parser=parser)\n",
        "\n",
        "# get unique item names\n",
        "item_names = data['item_name'].unique()\n",
        "\n",
        "# loop through each item and generate predictions\n",
        "results = []\n",
        "for item_name in item_names:\n",
        "    # select data for the current item\n",
        "    item_data = data[data['item_name']==item_name].drop('item_name', axis=1)\n",
        "    item_data.index = item_data['Year_Month']\n",
        "    item_data = item_data.drop('Year_Month', axis=1)\n",
        "    \n",
        "    # fit ARIMA model\n",
        "    model = auto_arima(item_data, seasonal=False, suppress_warnings=True)\n",
        "    model.fit(item_data)\n",
        "    \n",
        "    # make predictions for 2023\n",
        "    predictions = model.predict(n_periods=12, return_conf_int=False)\n",
        "    dates = pd.date_range(start='2023-01-01', end='2023-12-01', freq='MS')\n",
        "    \n",
        "    # create a dataframe with predicted values\n",
        "    df_pred = pd.DataFrame({'item_name': [item_name]*12, 'Year_Month': dates, 'Sales': predictions})\n",
        "    df_pred['Year'] = df_pred['Year_Month'].dt.year\n",
        "    df_pred['Month'] = df_pred['Year_Month'].dt.month\n",
        "    df_pred = df_pred[['item_name', 'Year', 'Month', 'Sales']]\n",
        "    results.append(df_pred)\n",
        "    \n",
        "# combine all the predictions into a single dataframe\n",
        "predictions_df = pd.concat(results)\n",
        "\n",
        "# save the predictions to a CSV file\n",
        "predictions_df.to_csv('predictions.csv', index=False)\n"
      ]
    }
  ]
}